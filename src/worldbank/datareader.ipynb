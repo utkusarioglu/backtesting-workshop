{
 "cells": [
  {
   "cell_type": "code",
   "execution_count": 1,
   "metadata": {},
   "outputs": [],
   "source": [
    "import matplotlib.pyplot as plt\n",
    "from matplotlib import style, rcParams\n",
    "from pandas_datareader import wb\n",
    "import pandas as pd\n",
    "import statsmodels.formula.api as smf\n",
    "from src.utils import apply_matplotlib_settings\n",
    "\n",
    "apply_matplotlib_settings()"
   ]
  },
  {
   "cell_type": "code",
   "execution_count": 2,
   "metadata": {},
   "outputs": [
    {
     "data": {
      "text/html": [
       "<div>\n",
       "<style scoped>\n",
       "    .dataframe tbody tr th:only-of-type {\n",
       "        vertical-align: middle;\n",
       "    }\n",
       "\n",
       "    .dataframe tbody tr th {\n",
       "        vertical-align: top;\n",
       "    }\n",
       "\n",
       "    .dataframe thead th {\n",
       "        text-align: right;\n",
       "    }\n",
       "</style>\n",
       "<table border=\"1\" class=\"dataframe\">\n",
       "  <thead>\n",
       "    <tr style=\"text-align: right;\">\n",
       "      <th></th>\n",
       "      <th>id</th>\n",
       "      <th>name</th>\n",
       "    </tr>\n",
       "  </thead>\n",
       "  <tbody>\n",
       "    <tr>\n",
       "      <th>691</th>\n",
       "      <td>6.0.GDPpc_constant</td>\n",
       "      <td>GDP per capita, PPP (constant 2011 internation...</td>\n",
       "    </tr>\n",
       "    <tr>\n",
       "      <th>10980</th>\n",
       "      <td>NY.GDP.PCAP.KD</td>\n",
       "      <td>GDP per capita (constant 2015 US$)</td>\n",
       "    </tr>\n",
       "    <tr>\n",
       "      <th>10982</th>\n",
       "      <td>NY.GDP.PCAP.KN</td>\n",
       "      <td>GDP per capita (constant LCU)</td>\n",
       "    </tr>\n",
       "    <tr>\n",
       "      <th>10984</th>\n",
       "      <td>NY.GDP.PCAP.PP.KD</td>\n",
       "      <td>GDP per capita, PPP (constant 2017 internation...</td>\n",
       "    </tr>\n",
       "    <tr>\n",
       "      <th>10985</th>\n",
       "      <td>NY.GDP.PCAP.PP.KD.87</td>\n",
       "      <td>GDP per capita, PPP (constant 1987 internation...</td>\n",
       "    </tr>\n",
       "  </tbody>\n",
       "</table>\n",
       "</div>"
      ],
      "text/plain": [
       "                         id                                               name\n",
       "691      6.0.GDPpc_constant  GDP per capita, PPP (constant 2011 internation...\n",
       "10980        NY.GDP.PCAP.KD                 GDP per capita (constant 2015 US$)\n",
       "10982        NY.GDP.PCAP.KN                      GDP per capita (constant LCU)\n",
       "10984     NY.GDP.PCAP.PP.KD  GDP per capita, PPP (constant 2017 internation...\n",
       "10985  NY.GDP.PCAP.PP.KD.87  GDP per capita, PPP (constant 1987 internation..."
      ]
     },
     "execution_count": 2,
     "metadata": {},
     "output_type": "execute_result"
    }
   ],
   "source": [
    "gdp_matches = wb.search(\"gdp.*capita.*const\").iloc[:, :2]\n",
    "gdp_matches"
   ]
  },
  {
   "cell_type": "code",
   "execution_count": 3,
   "metadata": {},
   "outputs": [
    {
     "data": {
      "text/html": [
       "<div>\n",
       "<style scoped>\n",
       "    .dataframe tbody tr th:only-of-type {\n",
       "        vertical-align: middle;\n",
       "    }\n",
       "\n",
       "    .dataframe tbody tr th {\n",
       "        vertical-align: top;\n",
       "    }\n",
       "\n",
       "    .dataframe thead th {\n",
       "        text-align: right;\n",
       "    }\n",
       "</style>\n",
       "<table border=\"1\" class=\"dataframe\">\n",
       "  <thead>\n",
       "    <tr style=\"text-align: right;\">\n",
       "      <th></th>\n",
       "      <th>id</th>\n",
       "      <th>name</th>\n",
       "    </tr>\n",
       "  </thead>\n",
       "  <tbody>\n",
       "    <tr>\n",
       "      <th>8535</th>\n",
       "      <td>IT.CEL.COVR.ZS</td>\n",
       "      <td>Population covered by mobile cellular network (%)</td>\n",
       "    </tr>\n",
       "    <tr>\n",
       "      <th>8590</th>\n",
       "      <td>IT.MOB.COV.ZS</td>\n",
       "      <td>Population coverage of mobile cellular telepho...</td>\n",
       "    </tr>\n",
       "  </tbody>\n",
       "</table>\n",
       "</div>"
      ],
      "text/plain": [
       "                  id                                               name\n",
       "8535  IT.CEL.COVR.ZS  Population covered by mobile cellular network (%)\n",
       "8590   IT.MOB.COV.ZS  Population coverage of mobile cellular telepho..."
      ]
     },
     "execution_count": 3,
     "metadata": {},
     "output_type": "execute_result"
    }
   ],
   "source": [
    "cellphone_matches = wb.search(\"cell.*%\").iloc[:, :2]\n",
    "cellphone_matches"
   ]
  },
  {
   "cell_type": "code",
   "execution_count": 4,
   "metadata": {},
   "outputs": [
    {
     "data": {
      "text/html": [
       "<div>\n",
       "<style scoped>\n",
       "    .dataframe tbody tr th:only-of-type {\n",
       "        vertical-align: middle;\n",
       "    }\n",
       "\n",
       "    .dataframe tbody tr th {\n",
       "        vertical-align: top;\n",
       "    }\n",
       "\n",
       "    .dataframe thead th {\n",
       "        text-align: right;\n",
       "    }\n",
       "</style>\n",
       "<table border=\"1\" class=\"dataframe\">\n",
       "  <thead>\n",
       "    <tr style=\"text-align: right;\">\n",
       "      <th></th>\n",
       "      <th></th>\n",
       "      <th>gdp_nom</th>\n",
       "      <th>gdp_ppp</th>\n",
       "    </tr>\n",
       "    <tr>\n",
       "      <th>country</th>\n",
       "      <th>year</th>\n",
       "      <th></th>\n",
       "      <th></th>\n",
       "    </tr>\n",
       "  </thead>\n",
       "  <tbody>\n",
       "    <tr>\n",
       "      <th>Africa Eastern and Southern</th>\n",
       "      <th>2020</th>\n",
       "      <td>1450.721534</td>\n",
       "      <td>3467.484700</td>\n",
       "    </tr>\n",
       "    <tr>\n",
       "      <th>Africa Western and Central</th>\n",
       "      <th>2020</th>\n",
       "      <td>1777.026501</td>\n",
       "      <td>3960.847898</td>\n",
       "    </tr>\n",
       "    <tr>\n",
       "      <th>Arab World</th>\n",
       "      <th>2020</th>\n",
       "      <td>5887.915493</td>\n",
       "      <td>13479.210424</td>\n",
       "    </tr>\n",
       "    <tr>\n",
       "      <th>Caribbean small states</th>\n",
       "      <th>2020</th>\n",
       "      <td>9166.622722</td>\n",
       "      <td>15037.804642</td>\n",
       "    </tr>\n",
       "    <tr>\n",
       "      <th>Central Europe and the Baltics</th>\n",
       "      <th>2020</th>\n",
       "      <td>14396.306274</td>\n",
       "      <td>31622.697023</td>\n",
       "    </tr>\n",
       "    <tr>\n",
       "      <th>...</th>\n",
       "      <th>...</th>\n",
       "      <td>...</td>\n",
       "      <td>...</td>\n",
       "    </tr>\n",
       "    <tr>\n",
       "      <th>Virgin Islands (U.S.)</th>\n",
       "      <th>2020</th>\n",
       "      <td>35758.794755</td>\n",
       "      <td>NaN</td>\n",
       "    </tr>\n",
       "    <tr>\n",
       "      <th>West Bank and Gaza</th>\n",
       "      <th>2020</th>\n",
       "      <td>2922.468011</td>\n",
       "      <td>5402.538773</td>\n",
       "    </tr>\n",
       "    <tr>\n",
       "      <th>Yemen, Rep.</th>\n",
       "      <th>2020</th>\n",
       "      <td>1057.281670</td>\n",
       "      <td>NaN</td>\n",
       "    </tr>\n",
       "    <tr>\n",
       "      <th>Zambia</th>\n",
       "      <th>2020</th>\n",
       "      <td>1237.283303</td>\n",
       "      <td>3183.650773</td>\n",
       "    </tr>\n",
       "    <tr>\n",
       "      <th>Zimbabwe</th>\n",
       "      <th>2020</th>\n",
       "      <td>1213.117057</td>\n",
       "      <td>1990.319419</td>\n",
       "    </tr>\n",
       "  </tbody>\n",
       "</table>\n",
       "<p>266 rows × 2 columns</p>\n",
       "</div>"
      ],
      "text/plain": [
       "                                          gdp_nom       gdp_ppp\n",
       "country                        year                            \n",
       "Africa Eastern and Southern    2020   1450.721534   3467.484700\n",
       "Africa Western and Central     2020   1777.026501   3960.847898\n",
       "Arab World                     2020   5887.915493  13479.210424\n",
       "Caribbean small states         2020   9166.622722  15037.804642\n",
       "Central Europe and the Baltics 2020  14396.306274  31622.697023\n",
       "...                                           ...           ...\n",
       "Virgin Islands (U.S.)          2020  35758.794755           NaN\n",
       "West Bank and Gaza             2020   2922.468011   5402.538773\n",
       "Yemen, Rep.                    2020   1057.281670           NaN\n",
       "Zambia                         2020   1237.283303   3183.650773\n",
       "Zimbabwe                       2020   1213.117057   1990.319419\n",
       "\n",
       "[266 rows x 2 columns]"
      ]
     },
     "execution_count": 4,
     "metadata": {},
     "output_type": "execute_result"
    }
   ],
   "source": [
    "# gdp_per_cap = gdp_matches.loc[10980, \"id\"]\n",
    "# gdp_per_cap_ppp = gdp_matches.loc[10984, \"id\"]\n",
    "indicators = [\n",
    "    *gdp_matches.loc[[10980, 10984], \"id\"],\n",
    "    # gdp_matches.loc[10980, \"id\"],\n",
    "    # cellphone_matches.loc[8590, \"id\"]\n",
    "]\n",
    "data = wb.download(indicator=indicators, country=\"all\", start=2020, end=2020)\n",
    "data.columns = [\"gdp_nom\", \"gdp_ppp\"]\n",
    "data"
   ]
  },
  {
   "cell_type": "code",
   "execution_count": 5,
   "metadata": {},
   "outputs": [
    {
     "name": "stdout",
     "output_type": "stream",
     "text": [
      "                            OLS Regression Results                            \n",
      "==============================================================================\n",
      "Dep. Variable:                gdp_nom   R-squared:                       0.886\n",
      "Model:                            OLS   Adj. R-squared:                  0.885\n",
      "Method:                 Least Squares   F-statistic:                     1860.\n",
      "Date:                Sat, 13 Jan 2024   Prob (F-statistic):          4.90e-115\n",
      "Time:                        11:04:53   Log-Likelihood:                -2455.5\n",
      "No. Observations:                 242   AIC:                             4915.\n",
      "Df Residuals:                     240   BIC:                             4922.\n",
      "Df Model:                           1                                         \n",
      "Covariance Type:            nonrobust                                         \n",
      "==============================================================================\n",
      "                 coef    std err          t      P>|t|      [0.025      0.975]\n",
      "------------------------------------------------------------------------------\n",
      "Intercept  -3849.1287    563.162     -6.835      0.000   -4958.500   -2739.757\n",
      "gdp_ppp        0.8754      0.020     43.131      0.000       0.835       0.915\n",
      "==============================================================================\n",
      "Omnibus:                       89.661   Durbin-Watson:                   1.945\n",
      "Prob(Omnibus):                  0.000   Jarque-Bera (JB):              773.035\n",
      "Skew:                           1.194   Prob(JB):                    1.37e-168\n",
      "Kurtosis:                      11.424   Cond. No.                     3.92e+04\n",
      "==============================================================================\n",
      "\n",
      "Notes:\n",
      "[1] Standard Errors assume that the covariance matrix of the errors is correctly specified.\n",
      "[2] The condition number is large, 3.92e+04. This might indicate that there are\n",
      "strong multicollinearity or other numerical problems.\n"
     ]
    }
   ],
   "source": [
    "mod = smf.ols(\"gdp_nom ~ gdp_ppp\", data).fit()\n",
    "print(mod.summary())"
   ]
  },
  {
   "cell_type": "code",
   "execution_count": 6,
   "metadata": {},
   "outputs": [
    {
     "data": {
      "text/html": [
       "<div>\n",
       "<style scoped>\n",
       "    .dataframe tbody tr th:only-of-type {\n",
       "        vertical-align: middle;\n",
       "    }\n",
       "\n",
       "    .dataframe tbody tr th {\n",
       "        vertical-align: top;\n",
       "    }\n",
       "\n",
       "    .dataframe thead th {\n",
       "        text-align: right;\n",
       "    }\n",
       "</style>\n",
       "<table border=\"1\" class=\"dataframe\">\n",
       "  <thead>\n",
       "    <tr style=\"text-align: right;\">\n",
       "      <th></th>\n",
       "      <th></th>\n",
       "      <th>energy_imports_%</th>\n",
       "    </tr>\n",
       "    <tr>\n",
       "      <th>country</th>\n",
       "      <th>year</th>\n",
       "      <th></th>\n",
       "    </tr>\n",
       "  </thead>\n",
       "  <tbody>\n",
       "    <tr>\n",
       "      <th rowspan=\"3\" valign=\"top\">Africa Eastern and Southern</th>\n",
       "      <th>2005</th>\n",
       "      <td>-35.939423</td>\n",
       "    </tr>\n",
       "    <tr>\n",
       "      <th>2004</th>\n",
       "      <td>-31.161816</td>\n",
       "    </tr>\n",
       "    <tr>\n",
       "      <th>2003</th>\n",
       "      <td>-32.419994</td>\n",
       "    </tr>\n",
       "    <tr>\n",
       "      <th rowspan=\"2\" valign=\"top\">Africa Western and Central</th>\n",
       "      <th>2005</th>\n",
       "      <td>-108.528981</td>\n",
       "    </tr>\n",
       "    <tr>\n",
       "      <th>2004</th>\n",
       "      <td>-111.508331</td>\n",
       "    </tr>\n",
       "    <tr>\n",
       "      <th>...</th>\n",
       "      <th>...</th>\n",
       "      <td>...</td>\n",
       "    </tr>\n",
       "    <tr>\n",
       "      <th rowspan=\"2\" valign=\"top\">Zambia</th>\n",
       "      <th>2004</th>\n",
       "      <td>7.348479</td>\n",
       "    </tr>\n",
       "    <tr>\n",
       "      <th>2003</th>\n",
       "      <td>6.126278</td>\n",
       "    </tr>\n",
       "    <tr>\n",
       "      <th rowspan=\"3\" valign=\"top\">Zimbabwe</th>\n",
       "      <th>2005</th>\n",
       "      <td>8.682759</td>\n",
       "    </tr>\n",
       "    <tr>\n",
       "      <th>2004</th>\n",
       "      <td>7.269228</td>\n",
       "    </tr>\n",
       "    <tr>\n",
       "      <th>2003</th>\n",
       "      <td>9.109144</td>\n",
       "    </tr>\n",
       "  </tbody>\n",
       "</table>\n",
       "<p>798 rows × 1 columns</p>\n",
       "</div>"
      ],
      "text/plain": [
       "                                  energy_imports_%\n",
       "country                     year                  \n",
       "Africa Eastern and Southern 2005        -35.939423\n",
       "                            2004        -31.161816\n",
       "                            2003        -32.419994\n",
       "Africa Western and Central  2005       -108.528981\n",
       "                            2004       -111.508331\n",
       "...                                            ...\n",
       "Zambia                      2004          7.348479\n",
       "                            2003          6.126278\n",
       "Zimbabwe                    2005          8.682759\n",
       "                            2004          7.269228\n",
       "                            2003          9.109144\n",
       "\n",
       "[798 rows x 1 columns]"
      ]
     },
     "execution_count": 6,
     "metadata": {},
     "output_type": "execute_result"
    }
   ],
   "source": [
    "search = wb.search(\"energy imports\")\n",
    "ind_code = search.iloc[0, :][\"id\"]\n",
    "energy_imports_percent = wb.download(indicator=[ind_code], counktry=\"all\")\n",
    "energy_imports_percent.rename(\n",
    "    columns={\"EG.IMP.CONS.ZS\": \"energy_imports_%\"}, inplace=True\n",
    ")\n",
    "energy_imports_percent"
   ]
  },
  {
   "cell_type": "code",
   "execution_count": 7,
   "metadata": {},
   "outputs": [
    {
     "data": {
      "text/plain": [
       "Index(['2005', '2004', '2003', '2005', '2004', '2003', '2005', '2004', '2003',\n",
       "       '2005',\n",
       "       ...\n",
       "       '2003', '2005', '2004', '2003', '2005', '2004', '2003', '2005', '2004',\n",
       "       '2003'],\n",
       "      dtype='object', name='year', length=798)"
      ]
     },
     "execution_count": 7,
     "metadata": {},
     "output_type": "execute_result"
    }
   ],
   "source": [
    "# grouped = energy_imports_percent.groupby(\"country\").min()\n",
    "# grouped.columns\n",
    "# plt.bar(grouped.columns, height=grouped)\n",
    "energy_imports_percent.index.get_level_values(\"year\")"
   ]
  },
  {
   "cell_type": "code",
   "execution_count": 8,
   "metadata": {},
   "outputs": [
    {
     "data": {
      "text/html": [
       "<div>\n",
       "<style scoped>\n",
       "    .dataframe tbody tr th:only-of-type {\n",
       "        vertical-align: middle;\n",
       "    }\n",
       "\n",
       "    .dataframe tbody tr th {\n",
       "        vertical-align: top;\n",
       "    }\n",
       "\n",
       "    .dataframe thead th {\n",
       "        text-align: right;\n",
       "    }\n",
       "</style>\n",
       "<table border=\"1\" class=\"dataframe\">\n",
       "  <thead>\n",
       "    <tr style=\"text-align: right;\">\n",
       "      <th></th>\n",
       "      <th>energy_imports_%</th>\n",
       "    </tr>\n",
       "    <tr>\n",
       "      <th>country</th>\n",
       "      <th></th>\n",
       "    </tr>\n",
       "  </thead>\n",
       "  <tbody>\n",
       "    <tr>\n",
       "      <th>Africa Eastern and Southern</th>\n",
       "      <td>-35.939423</td>\n",
       "    </tr>\n",
       "    <tr>\n",
       "      <th>Africa Western and Central</th>\n",
       "      <td>-108.528981</td>\n",
       "    </tr>\n",
       "    <tr>\n",
       "      <th>Arab World</th>\n",
       "      <td>-255.422584</td>\n",
       "    </tr>\n",
       "    <tr>\n",
       "      <th>Caribbean small states</th>\n",
       "      <td>-76.069921</td>\n",
       "    </tr>\n",
       "    <tr>\n",
       "      <th>Central Europe and the Baltics</th>\n",
       "      <td>33.404633</td>\n",
       "    </tr>\n",
       "    <tr>\n",
       "      <th>...</th>\n",
       "      <td>...</td>\n",
       "    </tr>\n",
       "    <tr>\n",
       "      <th>Virgin Islands (U.S.)</th>\n",
       "      <td>NaN</td>\n",
       "    </tr>\n",
       "    <tr>\n",
       "      <th>West Bank and Gaza</th>\n",
       "      <td>NaN</td>\n",
       "    </tr>\n",
       "    <tr>\n",
       "      <th>Yemen, Rep.</th>\n",
       "      <td>-210.398796</td>\n",
       "    </tr>\n",
       "    <tr>\n",
       "      <th>Zambia</th>\n",
       "      <td>7.456975</td>\n",
       "    </tr>\n",
       "    <tr>\n",
       "      <th>Zimbabwe</th>\n",
       "      <td>8.682759</td>\n",
       "    </tr>\n",
       "  </tbody>\n",
       "</table>\n",
       "<p>266 rows × 1 columns</p>\n",
       "</div>"
      ],
      "text/plain": [
       "                                energy_imports_%\n",
       "country                                         \n",
       "Africa Eastern and Southern           -35.939423\n",
       "Africa Western and Central           -108.528981\n",
       "Arab World                           -255.422584\n",
       "Caribbean small states                -76.069921\n",
       "Central Europe and the Baltics         33.404633\n",
       "...                                          ...\n",
       "Virgin Islands (U.S.)                        NaN\n",
       "West Bank and Gaza                           NaN\n",
       "Yemen, Rep.                          -210.398796\n",
       "Zambia                                  7.456975\n",
       "Zimbabwe                                8.682759\n",
       "\n",
       "[266 rows x 1 columns]"
      ]
     },
     "execution_count": 8,
     "metadata": {},
     "output_type": "execute_result"
    }
   ],
   "source": [
    "only_2005 = energy_imports_percent.xs(\"2005\", level=1)\n",
    "only_2005"
   ]
  },
  {
   "cell_type": "code",
   "execution_count": 9,
   "metadata": {},
   "outputs": [
    {
     "data": {
      "text/plain": [
       "<Axes: xlabel='country'>"
      ]
     },
     "execution_count": 9,
     "metadata": {},
     "output_type": "execute_result"
    },
    {
     "data": {
      "image/png": "[encoded data removed]",
      "text/plain": [
       "<Figure size 1000x600 with 1 Axes>"
      ]
     },
     "metadata": {},
     "output_type": "display_data"
    }
   ],
   "source": [
    "energy_imports_percent.unstack().loc[\n",
    "    [\"Zambia\", \"United States\", \"France\", \"Belgium\"]\n",
    "].plot(kind=\"bar\")"
   ]
  },
  {
   "cell_type": "code",
   "execution_count": 10,
   "metadata": {},
   "outputs": [
    {
     "data": {
      "image/png": "[encoded data removed]",
      "text/plain": [
       "<Figure size 2000x400 with 1 Axes>"
      ]
     },
     "metadata": {},
     "output_type": "display_data"
    }
   ],
   "source": [
    "# style.use(\"dark_background\")\n",
    "fig, ax = plt.subplots(\n",
    "    figsize=(20, 4),\n",
    ")\n",
    "energy_imports_percent.dropna().sort_values(\n",
    "    by=\"energy_imports_%\", ascending=False\n",
    ").unstack().head(20).plot(kind=\"bar\", ax=ax)\n",
    "ax.get_legend().remove()\n",
    "fig.show()"
   ]
  }
 ],
 "metadata": {
  "kernelspec": {
   "display_name": "Python 3",
   "language": "python",
   "name": "python3"
  },
  "language_info": {
   "codemirror_mode": {
    "name": "ipython",
    "version": 3
   },
   "file_extension": ".py",
   "mimetype": "text/x-python",
   "name": "python",
   "nbconvert_exporter": "python",
   "pygments_lexer": "ipython3",
   "version": "3.10.13"
  }
 },
 "nbformat": 4,
 "nbformat_minor": 2
}
