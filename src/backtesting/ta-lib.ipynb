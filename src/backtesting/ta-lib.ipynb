{
 "cells": [
  {
   "cell_type": "code",
   "execution_count": 75,
   "metadata": {},
   "outputs": [],
   "source": [
    "from backtesting import Backtest, Strategy\n",
    "from backtesting.lib import crossover, resample_apply\n",
    "from backtesting.test import GOOG\n",
    "import talib\n",
    "import numpy as np\n",
    "import seaborn as sns\n",
    "from utils import get_backtesting_plot_kwargs"
   ]
  },
  {
   "cell_type": "code",
   "execution_count": 78,
   "metadata": {},
   "outputs": [],
   "source": []
  },
  {
   "cell_type": "markdown",
   "metadata": {},
   "source": [
    "### Creating a strategy"
   ]
  },
  {
   "cell_type": "code",
   "execution_count": 2,
   "metadata": {},
   "outputs": [],
   "source": [
    "class RsiCrossoverOscillator(Strategy):\n",
    "    upper_bound = 70\n",
    "    lower_bound = 30\n",
    "    rsi_window = 14\n",
    "\n",
    "    def init(self):\n",
    "        self.rsi = self.I(talib.RSI, self.data.Close, self.rsi_window)\n",
    "\n",
    "    def next(self):\n",
    "        if crossover(self.rsi, self.upper_bound):\n",
    "            self.position.close()\n",
    "        elif crossover(self.lower_bound, self.rsi):\n",
    "            self.buy()"
   ]
  },
  {
   "cell_type": "markdown",
   "metadata": {},
   "source": [
    "### Curating data"
   ]
  },
  {
   "cell_type": "code",
   "execution_count": 80,
   "metadata": {},
   "outputs": [],
   "source": [
    "GOOG_2012 = GOOG.filter(like=\"2012\", axis=0)\n",
    "\n",
    "BACKTEST_COMMON = {\"data\": GOOG_2012, \"cash\": 1000, \"commission\": 0.002}"
   ]
  },
  {
   "cell_type": "markdown",
   "metadata": {},
   "source": [
    "### Flat run"
   ]
  },
  {
   "cell_type": "code",
   "execution_count": 81,
   "metadata": {},
   "outputs": [
    {
     "name": "stderr",
     "output_type": "stream",
     "text": [
      "BokehDeprecationWarning: Passing lists of formats for DatetimeTickFormatter scales was deprecated in Bokeh 3.0. Configure a single string format for each scale\n",
      "/opt/conda/envs/default/lib/python3.10/site-packages/backtesting/_plotting.py:250: UserWarning: DatetimeFormatter scales now only accept a single format. Using the first provided: '%d %b'\n",
      "  formatter=DatetimeTickFormatter(days=['%d %b', '%a %d'],\n",
      "BokehDeprecationWarning: Passing lists of formats for DatetimeTickFormatter scales was deprecated in Bokeh 3.0. Configure a single string format for each scale\n",
      "/opt/conda/envs/default/lib/python3.10/site-packages/backtesting/_plotting.py:250: UserWarning: DatetimeFormatter scales now only accept a single format. Using the first provided: '%m/%Y'\n",
      "  formatter=DatetimeTickFormatter(days=['%d %b', '%a %d'],\n",
      "/opt/conda/envs/default/lib/python3.10/site-packages/backtesting/_plotting.py:659: UserWarning: found multiple competing values for 'toolbar.active_drag' property; using the latest value\n",
      "  fig = gridplot(\n",
      "/opt/conda/envs/default/lib/python3.10/site-packages/backtesting/_plotting.py:659: UserWarning: found multiple competing values for 'toolbar.active_scroll' property; using the latest value\n",
      "  fig = gridplot(\n"
     ]
    },
    {
     "data": {
      "text/plain": [
       "Start                     2012-01-03 00:00:00\n",
       "End                       2012-12-31 00:00:00\n",
       "Duration                    363 days 00:00:00\n",
       "Exposure Time [%]                        14.0\n",
       "Equity Final [$]                    1044.0407\n",
       "Equity Peak [$]                     1066.4007\n",
       "Return [%]                            4.40407\n",
       "Buy & Hold Return [%]                6.307389\n",
       "Return (Ann.) [%]                    4.440073\n",
       "Volatility (Ann.) [%]                4.376953\n",
       "Sharpe Ratio                         1.014421\n",
       "Sortino Ratio                        2.280962\n",
       "Calmar Ratio                         2.117575\n",
       "Max. Drawdown [%]                   -2.096773\n",
       "Avg. Drawdown [%]                   -1.056563\n",
       "Max. Drawdown Duration       13 days 00:00:00\n",
       "Avg. Drawdown Duration        8 days 00:00:00\n",
       "# Trades                                    1\n",
       "Win Rate [%]                            100.0\n",
       "Best Trade [%]                       6.713938\n",
       "Worst Trade [%]                      6.713938\n",
       "Avg. Trade [%]                       6.713938\n",
       "Max. Trade Duration          52 days 00:00:00\n",
       "Avg. Trade Duration          52 days 00:00:00\n",
       "Profit Factor                             NaN\n",
       "Expectancy [%]                       6.713938\n",
       "SQN                                       NaN\n",
       "_strategy                 RsiCrossoverOsci...\n",
       "_equity_curve                            E...\n",
       "_trades                      Size  EntryBa...\n",
       "dtype: object"
      ]
     },
     "execution_count": 81,
     "metadata": {},
     "output_type": "execute_result"
    }
   ],
   "source": [
    "bt = Backtest(strategy=RsiCrossoverOscillator, **BACKTEST_COMMON)\n",
    "stats = bt.run()\n",
    "bt.plot(**get_backtesting_plot_kwargs(stats))\n",
    "stats"
   ]
  },
  {
   "cell_type": "markdown",
   "metadata": {},
   "source": [
    "### Run with optimizatin"
   ]
  },
  {
   "cell_type": "code",
   "execution_count": 73,
   "metadata": {},
   "outputs": [
    {
     "name": "stderr",
     "output_type": "stream",
     "text": [
      "BokehDeprecationWarning: Passing lists of formats for DatetimeTickFormatter scales was deprecated in Bokeh 3.0. Configure a single string format for each scale\n",
      "/opt/conda/envs/default/lib/python3.10/site-packages/backtesting/_plotting.py:250: UserWarning: DatetimeFormatter scales now only accept a single format. Using the first provided: '%d %b'\n",
      "  formatter=DatetimeTickFormatter(days=['%d %b', '%a %d'],\n",
      "BokehDeprecationWarning: Passing lists of formats for DatetimeTickFormatter scales was deprecated in Bokeh 3.0. Configure a single string format for each scale\n",
      "/opt/conda/envs/default/lib/python3.10/site-packages/backtesting/_plotting.py:250: UserWarning: DatetimeFormatter scales now only accept a single format. Using the first provided: '%m/%Y'\n",
      "  formatter=DatetimeTickFormatter(days=['%d %b', '%a %d'],\n",
      "/opt/conda/envs/default/lib/python3.10/site-packages/backtesting/_plotting.py:659: UserWarning: found multiple competing values for 'toolbar.active_drag' property; using the latest value\n",
      "  fig = gridplot(\n",
      "/opt/conda/envs/default/lib/python3.10/site-packages/backtesting/_plotting.py:659: UserWarning: found multiple competing values for 'toolbar.active_scroll' property; using the latest value\n",
      "  fig = gridplot(\n"
     ]
    },
    {
     "data": {
      "text/plain": [
       "Start                     2012-01-03 00:00:00\n",
       "End                       2012-12-31 00:00:00\n",
       "Duration                    363 days 00:00:00\n",
       "Exposure Time [%]                        33.2\n",
       "Equity Final [$]                    1084.1398\n",
       "Equity Peak [$]                     1084.4998\n",
       "Return [%]                            8.41398\n",
       "Buy & Hold Return [%]                6.307389\n",
       "Return (Ann.) [%]                     8.48407\n",
       "Volatility (Ann.) [%]                6.759353\n",
       "Sharpe Ratio                          1.25516\n",
       "Sortino Ratio                        2.331198\n",
       "Calmar Ratio                         2.189427\n",
       "Max. Drawdown [%]                   -3.875019\n",
       "Avg. Drawdown [%]                   -1.059717\n",
       "Max. Drawdown Duration       27 days 00:00:00\n",
       "Avg. Drawdown Duration       10 days 00:00:00\n",
       "# Trades                                    2\n",
       "Win Rate [%]                            100.0\n",
       "Best Trade [%]                       8.177742\n",
       "Worst Trade [%]                      5.144035\n",
       "Avg. Trade [%]                       6.650102\n",
       "Max. Trade Duration          60 days 00:00:00\n",
       "Avg. Trade Duration          59 days 00:00:00\n",
       "Profit Factor                             NaN\n",
       "Expectancy [%]                       6.660889\n",
       "SQN                                  6.177574\n",
       "_strategy                 RsiCrossoverOsci...\n",
       "_equity_curve                            E...\n",
       "_trades                      Size  EntryBa...\n",
       "dtype: object"
      ]
     },
     "execution_count": 73,
     "metadata": {},
     "output_type": "execute_result"
    }
   ],
   "source": [
    "stats, heatmap = bt.optimize(\n",
    "    upper_bound=range(60, 80, 5),\n",
    "    lower_bound=range(20, 40, 5),\n",
    "    rsi_window=range(7, 21, 3),\n",
    "    maximize=\"Equity Final [$]\",\n",
    "    return_heatmap=True,\n",
    ")\n",
    "bt.plot(**get_backtesting_plot_kwargs(stats))\n",
    "stats"
   ]
  },
  {
   "cell_type": "markdown",
   "metadata": {},
   "source": [
    "### Optimized run Heatmap"
   ]
  },
  {
   "cell_type": "code",
   "execution_count": 69,
   "metadata": {},
   "outputs": [
    {
     "data": {
      "text/plain": [
       "<Axes: xlabel='upper_bound', ylabel='lower_bound'>"
      ]
     },
     "execution_count": 69,
     "metadata": {},
     "output_type": "execute_result"
    },
    {
     "data": {
      "image/png": "[encoded data removed]",
      "text/plain": [
       "<Figure size 640x480 with 2 Axes>"
      ]
     },
     "metadata": {},
     "output_type": "display_data"
    }
   ],
   "source": [
    "hm = heatmap.groupby([\"lower_bound\", \"upper_bound\"]).mean().unstack()\n",
    "sns.heatmap(hm, cmap=\"plasma\")"
   ]
  },
  {
   "cell_type": "markdown",
   "metadata": {},
   "source": [
    "### Multi-Timeframe"
   ]
  },
  {
   "cell_type": "code",
   "execution_count": 89,
   "metadata": {},
   "outputs": [],
   "source": [
    "class MultiRsi(Strategy):\n",
    "    lower_bound = 30\n",
    "    upper_bound = 70\n",
    "    rsi_window = 14\n",
    "\n",
    "    def init(self):\n",
    "        self.daily_rsi = self.I(\n",
    "            talib.STOCHRSI, self.data.Close, self.rsi_window\n",
    "        )\n",
    "        self.weekly_rsi = resample_apply(\n",
    "            \"W-FRI\", talib.STOCHRSI, self.data.Close, self.rsi_window\n",
    "        )\n",
    "\n",
    "    def next(self):\n",
    "        daily_upper_crossover = crossover(self.daily_rsi, self.upper_bound)\n",
    "        daily_lower_crossover = crossover(self.lower_bound, self.daily_rsi)\n",
    "        weekly_upper_crossover = self.weekly_rsi[-1] > self.upper_bound\n",
    "        weekly_lower_crossover = self.lower_bound > self.weekly_rsi[-1]\n",
    "\n",
    "        if daily_upper_crossover and weekly_upper_crossover:\n",
    "            self.position.close()\n",
    "        elif daily_lower_crossover and weekly_lower_crossover:\n",
    "            self.buy()"
   ]
  },
  {
   "cell_type": "code",
   "execution_count": 90,
   "metadata": {},
   "outputs": [
    {
     "name": "stderr",
     "output_type": "stream",
     "text": [
      "BokehDeprecationWarning: Passing lists of formats for DatetimeTickFormatter scales was deprecated in Bokeh 3.0. Configure a single string format for each scale\n",
      "/opt/conda/envs/default/lib/python3.10/site-packages/backtesting/_plotting.py:250: UserWarning: DatetimeFormatter scales now only accept a single format. Using the first provided: '%d %b'\n",
      "  formatter=DatetimeTickFormatter(days=['%d %b', '%a %d'],\n",
      "BokehDeprecationWarning: Passing lists of formats for DatetimeTickFormatter scales was deprecated in Bokeh 3.0. Configure a single string format for each scale\n",
      "/opt/conda/envs/default/lib/python3.10/site-packages/backtesting/_plotting.py:250: UserWarning: DatetimeFormatter scales now only accept a single format. Using the first provided: '%m/%Y'\n",
      "  formatter=DatetimeTickFormatter(days=['%d %b', '%a %d'],\n",
      "/opt/conda/envs/default/lib/python3.10/site-packages/backtesting/_plotting.py:659: UserWarning: found multiple competing values for 'toolbar.active_drag' property; using the latest value\n",
      "  fig = gridplot(\n",
      "/opt/conda/envs/default/lib/python3.10/site-packages/backtesting/_plotting.py:659: UserWarning: found multiple competing values for 'toolbar.active_scroll' property; using the latest value\n",
      "  fig = gridplot(\n"
     ]
    },
    {
     "data": {
      "text/plain": [
       "Start                     2012-01-03 00:00:00\n",
       "End                       2012-12-31 00:00:00\n",
       "Duration                    363 days 00:00:00\n",
       "Exposure Time [%]                        23.2\n",
       "Equity Final [$]                    1043.2716\n",
       "Equity Peak [$]                     1065.6316\n",
       "Return [%]                            4.32716\n",
       "Buy & Hold Return [%]                6.307389\n",
       "Return (Ann.) [%]                    4.362522\n",
       "Volatility (Ann.) [%]                5.807959\n",
       "Sharpe Ratio                         0.751128\n",
       "Sortino Ratio                        1.372163\n",
       "Calmar Ratio                         1.540418\n",
       "Max. Drawdown [%]                   -2.832038\n",
       "Avg. Drawdown [%]                   -1.410753\n",
       "Max. Drawdown Duration      146 days 00:00:00\n",
       "Avg. Drawdown Duration       26 days 00:00:00\n",
       "# Trades                                    2\n",
       "Win Rate [%]                            100.0\n",
       "Best Trade [%]                       5.250892\n",
       "Worst Trade [%]                      1.447986\n",
       "Avg. Trade [%]                       3.331946\n",
       "Max. Trade Duration          49 days 00:00:00\n",
       "Avg. Trade Duration          42 days 00:00:00\n",
       "Profit Factor                             NaN\n",
       "Expectancy [%]                       3.349439\n",
       "SQN                                   1.62838\n",
       "_strategy                            MultiRsi\n",
       "_equity_curve                            E...\n",
       "_trades                      Size  EntryBa...\n",
       "dtype: object"
      ]
     },
     "execution_count": 90,
     "metadata": {},
     "output_type": "execute_result"
    }
   ],
   "source": [
    "bt = Backtest(strategy=MultiRsi, **BACKTEST_COMMON)\n",
    "stats = bt.run()\n",
    "bt.plot(**get_backtesting_plot_kwargs(stats))\n",
    "stats"
   ]
  },
  {
   "cell_type": "code",
   "execution_count": 91,
   "metadata": {},
   "outputs": [
    {
     "data": {
      "text/html": [
       "<div>\n",
       "<style scoped>\n",
       "    .dataframe tbody tr th:only-of-type {\n",
       "        vertical-align: middle;\n",
       "    }\n",
       "\n",
       "    .dataframe tbody tr th {\n",
       "        vertical-align: top;\n",
       "    }\n",
       "\n",
       "    .dataframe thead th {\n",
       "        text-align: right;\n",
       "    }\n",
       "</style>\n",
       "<table border=\"1\" class=\"dataframe\">\n",
       "  <thead>\n",
       "    <tr style=\"text-align: right;\">\n",
       "      <th></th>\n",
       "      <th>Size</th>\n",
       "      <th>EntryBar</th>\n",
       "      <th>ExitBar</th>\n",
       "      <th>EntryPrice</th>\n",
       "      <th>ExitPrice</th>\n",
       "      <th>PnL</th>\n",
       "      <th>ReturnPct</th>\n",
       "      <th>EntryTime</th>\n",
       "      <th>ExitTime</th>\n",
       "      <th>Duration</th>\n",
       "    </tr>\n",
       "  </thead>\n",
       "  <tbody>\n",
       "    <tr>\n",
       "      <th>0</th>\n",
       "      <td>1</td>\n",
       "      <td>106</td>\n",
       "      <td>129</td>\n",
       "      <td>576.6009</td>\n",
       "      <td>584.95</td>\n",
       "      <td>8.3491</td>\n",
       "      <td>0.014480</td>\n",
       "      <td>2012-06-05</td>\n",
       "      <td>2012-07-09</td>\n",
       "      <td>34 days</td>\n",
       "    </tr>\n",
       "    <tr>\n",
       "      <th>1</th>\n",
       "      <td>1</td>\n",
       "      <td>216</td>\n",
       "      <td>249</td>\n",
       "      <td>665.0775</td>\n",
       "      <td>700.00</td>\n",
       "      <td>34.9225</td>\n",
       "      <td>0.052509</td>\n",
       "      <td>2012-11-12</td>\n",
       "      <td>2012-12-31</td>\n",
       "      <td>49 days</td>\n",
       "    </tr>\n",
       "  </tbody>\n",
       "</table>\n",
       "</div>"
      ],
      "text/plain": [
       "   Size  EntryBar  ExitBar  EntryPrice  ExitPrice      PnL  ReturnPct   \n",
       "0     1       106      129    576.6009     584.95   8.3491   0.014480  \\\n",
       "1     1       216      249    665.0775     700.00  34.9225   0.052509   \n",
       "\n",
       "   EntryTime   ExitTime Duration  \n",
       "0 2012-06-05 2012-07-09  34 days  \n",
       "1 2012-11-12 2012-12-31  49 days  "
      ]
     },
     "execution_count": 91,
     "metadata": {},
     "output_type": "execute_result"
    }
   ],
   "source": [
    "stats[\"_trades\"]"
   ]
  }
 ],
 "metadata": {
  "kernelspec": {
   "display_name": "Python 3",
   "language": "python",
   "name": "python3"
  },
  "language_info": {
   "codemirror_mode": {
    "name": "ipython",
    "version": 3
   },
   "file_extension": ".py",
   "mimetype": "text/x-python",
   "name": "python",
   "nbconvert_exporter": "python",
   "pygments_lexer": "ipython3",
   "version": "3.10.13"
  }
 },
 "nbformat": 4,
 "nbformat_minor": 2
}
